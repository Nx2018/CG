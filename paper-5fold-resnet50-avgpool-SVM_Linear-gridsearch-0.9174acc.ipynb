{
 "cells": [
  {
   "cell_type": "code",
   "execution_count": 1,
   "metadata": {},
   "outputs": [
    {
     "name": "stderr",
     "output_type": "stream",
     "text": [
      "Using TensorFlow backend.\n"
     ]
    }
   ],
   "source": [
    "import os\n",
    "import os.path\n",
    "import glob\n",
    "import math\n",
    "from sklearn.preprocessing import LabelEncoder\n",
    "from sklearn.model_selection import StratifiedKFold                                                                                                                       \n",
    "from sklearn.metrics import confusion_matrix,accuracy_score\n",
    "from sklearn.model_selection import StratifiedShuffleSplit\n",
    "from sklearn.model_selection import GridSearchCV\n",
    "import sklearn_evaluation.plot as skplot\n",
    "from sklearn.model_selection import learning_curve\n",
    "from sklearn import svm\n",
    "\n",
    "import matplotlib.pyplot as plt\n",
    "\n",
    "import numpy as np\n",
    "np.random.seed(1)\n",
    "\n",
    "from keras.preprocessing.image import img_to_array\n",
    "from keras.utils import np_utils\n",
    "from keras.preprocessing import image\n",
    "from keras.applications.resnet50 import ResNet50\n",
    "from keras.applications.imagenet_utils import preprocess_input"
   ]
  },
  {
   "cell_type": "code",
   "execution_count": 2,
   "metadata": {
    "collapsed": true
   },
   "outputs": [],
   "source": [
    "imagedir = \"Dataset_4850\""
   ]
  },
  {
   "cell_type": "code",
   "execution_count": 3,
   "metadata": {},
   "outputs": [
    {
     "name": "stdout",
     "output_type": "stream",
     "text": [
      "Label: 0\tFamily:              CG\tNumber of images: 4850\n",
      "Label: 1\tFamily:              PG\tNumber of images: 4850\n",
      "Processing images ...\n",
      "Images processed: 9700\n"
     ]
    }
   ],
   "source": [
    "cur_dir = os.getcwd()\n",
    "os.chdir(imagedir)  # the parent folder with sub-folders\n",
    "\n",
    "# Get number of samples per family\n",
    "list_fams = sorted(os.listdir(os.getcwd()), key=str.lower)  # vector of strings with family names\n",
    "no_imgs = []  # No. of samples per family\n",
    "for i in range(len(list_fams)):\n",
    "    os.chdir(list_fams[i])\n",
    "    len1 = len(glob.glob('*.jpg'))  # assuming the images are stored as 'jpg'\n",
    "    no_imgs.append(len1)\n",
    "    os.chdir('..')\n",
    "num_samples = np.sum(no_imgs)  # total number of all samples\n",
    "\n",
    "# Compute the labels\n",
    "y = np.zeros(num_samples)\n",
    "pos = 0\n",
    "label = 0\n",
    "for i in no_imgs:\n",
    "    print (\"Label:%2d\\tFamily: %15s\\tNumber of images: %d\" % (label, list_fams[label], i))\n",
    "    for j in range(i):\n",
    "        y[pos] = label\n",
    "        pos += 1\n",
    "    label += 1\n",
    "num_classes = label\n",
    "\n",
    "# Compute the features\n",
    "width, height,channels = (224,224,3)\n",
    "X = np.zeros((num_samples, width, height, channels))\n",
    "cnt = 0\n",
    "list_paths = [] # List of image paths\n",
    "print(\"Processing images ...\")\n",
    "for i in range(len(list_fams)):\n",
    "    for img_file in glob.glob(list_fams[i]+'/*.jpg'):\n",
    "        #print(\"[%d] Processing image: %s\" % (cnt, img_file))\n",
    "        list_paths.append(os.path.join(os.getcwd(),img_file))\n",
    "        img = image.load_img(img_file, target_size=(224, 224))\n",
    "        x = image.img_to_array(img)\n",
    "        x = np.expand_dims(x, axis=0)\n",
    "        x = preprocess_input(x)\n",
    "        X[cnt] = x\n",
    "        cnt += 1\n",
    "print(\"Images processed: %d\" %(cnt))\n",
    "\n",
    "os.chdir(cur_dir)"
   ]
  },
  {
   "cell_type": "code",
   "execution_count": 4,
   "metadata": {},
   "outputs": [
    {
     "data": {
      "text/plain": [
       "(9700, 224, 224, 3)"
      ]
     },
     "execution_count": 4,
     "metadata": {},
     "output_type": "execute_result"
    }
   ],
   "source": [
    "X.shape"
   ]
  },
  {
   "cell_type": "code",
   "execution_count": 5,
   "metadata": {
    "collapsed": true
   },
   "outputs": [],
   "source": [
    "# Encoding classes (y) into integers (y_encoded) and then generating one-hot-encoding (Y)\n",
    "encoder = LabelEncoder()\n",
    "encoder.fit(y)\n",
    "y_encoded = encoder.transform(y)\n",
    "Y = np_utils.to_categorical(y_encoded)"
   ]
  },
  {
   "cell_type": "code",
   "execution_count": 6,
   "metadata": {
    "collapsed": true
   },
   "outputs": [],
   "source": [
    "# Creating base_model (ResNet50 notop)\n",
    "image_shape = (224, 224, 3)                                                                                                                                                                                                                                                                                            \n",
    "base_model = ResNet50(weights='imagenet', input_shape=image_shape, include_top=False, pooling='avg')"
   ]
  },
  {
   "cell_type": "code",
   "execution_count": 7,
   "metadata": {},
   "outputs": [
    {
     "name": "stdout",
     "output_type": "stream",
     "text": [
      "Loading ResNet50 extracted features from paper-resnet50features-avgpool.npy ...\n"
     ]
    }
   ],
   "source": [
    "filename = 'paper-resnet50features-avgpool.npy'\n",
    "if os.path.exists(filename):\n",
    "    print(\"Loading ResNet50 extracted features from %s ...\" %(filename))\n",
    "    resnet50features = np.load(filename)\n",
    "else:\n",
    "    print(\"Extracting features from ResNet50 layers ...\")\n",
    "    resnet50features = base_model.predict(X)\n",
    "    print(\"Saving ResNet50 extracted features into %s ...\" %(filename))\n",
    "    np.save(filename, resnet50features)"
   ]
  },
  {
   "cell_type": "code",
   "execution_count": 8,
   "metadata": {},
   "outputs": [
    {
     "data": {
      "text/plain": [
       "(9700, 2048)"
      ]
     },
     "execution_count": 8,
     "metadata": {},
     "output_type": "execute_result"
    }
   ],
   "source": [
    "resnet50features.shape"
   ]
  },
  {
   "cell_type": "code",
   "execution_count": 9,
   "metadata": {},
   "outputs": [
    {
     "name": "stdout",
     "output_type": "stream",
     "text": [
      "Fitting 5 folds for each of 13 candidates, totalling 65 fits\n",
      "[CV] C=0.01 ..........................................................\n",
      "[CV] C=0.01 ..........................................................\n",
      "[CV] C=0.01 ..........................................................\n",
      "[CV] C=0.01 ..........................................................\n",
      "[CV] C=0.01 ..........................................................\n",
      "[CV] C=0.1 ...........................................................\n",
      "[CV] C=0.1 ...........................................................\n",
      "[CV] C=0.1 ...........................................................\n",
      "[CV] C=0.1 ...........................................................\n",
      "[CV] C=0.1 ...........................................................\n",
      "[CV] C=1.0 ...........................................................\n",
      "[CV] C=1.0 ...........................................................\n",
      "[CV] C=1.0 ...........................................................\n",
      "[CV] C=1.0 ...........................................................\n",
      "[CV] C=1.0 ...........................................................\n",
      "[CV] C=10.0 ..........................................................\n",
      "[CV] C=10.0 ..........................................................\n",
      "[CV] C=10.0 ..........................................................\n",
      "[CV] C=10.0 ..........................................................\n",
      "[CV] C=10.0 ..........................................................\n",
      "[CV] C=100.0 .........................................................\n",
      "[CV] C=100.0 .........................................................\n",
      "[CV] C=100.0 .........................................................\n",
      "[CV] C=100.0 .........................................................\n",
      "[CV] ........................... C=0.01, score=0.919588, total=   9.1s\n",
      "[CV] ........................... C=0.01, score=0.923196, total=   9.0s\n",
      "[CV] C=100.0 .........................................................\n",
      "[CV] ........................... C=0.01, score=0.912371, total=   8.9s\n"
     ]
    },
    {
     "name": "stderr",
     "output_type": "stream",
     "text": [
      "[Parallel(n_jobs=-1)]: Done   2 tasks      | elapsed:    9.9s\n"
     ]
    },
    {
     "name": "stdout",
     "output_type": "stream",
     "text": [
      "[CV] C=1000.0 ........................................................\n",
      "[CV] ........................... C=0.01, score=0.918557, total=   9.7s\n",
      "[CV] C=1000.0 ........................................................\n",
      "[CV] C=1000.0 ........................................................\n",
      "[CV] ........................... C=0.01, score=0.913402, total=  12.8s\n",
      "[CV] C=1000.0 ........................................................\n",
      "[CV] ............................ C=0.1, score=0.904124, total=  20.4s\n",
      "[CV] C=1000.0 ........................................................\n",
      "[CV] ............................ C=0.1, score=0.903608, total=  22.4s\n",
      "[CV] C=10000.0 .......................................................\n",
      "[CV] ............................ C=0.1, score=0.901546, total=  22.5s\n",
      "[CV] ........................... C=10.0, score=0.902062, total=  21.2s\n",
      "[CV] C=10000.0 .......................................................\n",
      "[CV] C=10000.0 .......................................................\n",
      "[CV] ............................ C=0.1, score=0.912887, total=  23.3s\n",
      "[CV] C=10000.0 .......................................................\n",
      "[CV] ............................ C=1.0, score=0.908763, total=  22.7s\n",
      "[CV] ............................ C=1.0, score=0.899485, total=  22.9s\n",
      "[CV] ............................ C=1.0, score=0.902062, total=  23.0s\n",
      "[CV] ............................ C=0.1, score=0.894845, total=  23.5s\n",
      "[CV] C=10000.0 .......................................................\n",
      "[CV] ............................ C=1.0, score=0.892268, total=  22.7s\n"
     ]
    },
    {
     "name": "stderr",
     "output_type": "stream",
     "text": [
      "[Parallel(n_jobs=-1)]: Done  13 tasks      | elapsed:   25.6s\n"
     ]
    },
    {
     "name": "stdout",
     "output_type": "stream",
     "text": [
      "[CV] ............................ C=1.0, score=0.896392, total=  22.7s\n",
      "[CV] C=100000.0 ......................................................\n",
      "[CV] C=100000.0 ......................................................\n",
      "[CV] C=100000.0 ......................................................\n",
      "[CV] ........................... C=10.0, score=0.909278, total=  22.9s\n",
      "[CV] C=100000.0 ......................................................\n",
      "[CV] ........................... C=10.0, score=0.900000, total=  23.1s\n",
      "[CV] C=100000.0 ......................................................\n",
      "[CV] .......................... C=100.0, score=0.900515, total=  22.5s\n",
      "[CV] ........................... C=10.0, score=0.892268, total=  23.2s\n",
      "[CV] C=1000000.0 .....................................................\n",
      "[CV] C=1000000.0 .....................................................\n",
      "[CV] ........................... C=10.0, score=0.896392, total=  23.6s\n",
      "[CV] C=1000000.0 .....................................................\n",
      "[CV] .......................... C=100.0, score=0.907216, total=  22.9s\n",
      "[CV] C=1000000.0 .....................................................\n",
      "[CV] .......................... C=100.0, score=0.893814, total=  23.2s\n",
      "[CV] C=1000000.0 .....................................................\n",
      "[CV] C=10000000.0 ....................................................\n",
      "[CV] C=10000000.0 ....................................................\n",
      "[CV] .......................... C=100.0, score=0.902577, total=  25.1s\n",
      "[CV] C=10000000.0 ....................................................\n",
      "[CV] ......................... C=1000.0, score=0.902062, total=  21.1s\n",
      "[CV] C=10000000.0 ....................................................\n"
     ]
    },
    {
     "name": "stderr",
     "output_type": "stream",
     "text": [
      "[Parallel(n_jobs=-1)]: Done  25 out of  65 | elapsed:   31.3s remaining:   50.2s\n"
     ]
    },
    {
     "name": "stdout",
     "output_type": "stream",
     "text": [
      "[CV] .......................... C=100.0, score=0.894330, total=  21.7s\n",
      "[CV] C=10000000.0 ....................................................\n",
      "[CV] ......................... C=1000.0, score=0.906186, total=  22.1s\n",
      "[CV] C=100000000.0 ...................................................\n",
      "[CV] ......................... C=1000.0, score=0.898454, total=  22.6s\n",
      "[CV] C=100000000.0 ...................................................\n",
      "[CV] ......................... C=1000.0, score=0.894845, total=  21.3s\n",
      "[CV] C=100000000.0 ...................................................\n",
      "[CV] ......................... C=1000.0, score=0.895876, total=  21.6s\n",
      "[CV] C=100000000.0 ...................................................\n",
      "[CV] ........................ C=10000.0, score=0.902577, total=  21.9s\n",
      "[CV] C=100000000.0 ...................................................\n",
      "[CV] ........................ C=10000.0, score=0.906186, total=  21.8s\n",
      "[CV] C=1000000000.0 ..................................................\n"
     ]
    },
    {
     "name": "stderr",
     "output_type": "stream",
     "text": [
      "[Parallel(n_jobs=-1)]: Done  32 out of  65 | elapsed:   47.0s remaining:   48.4s\n"
     ]
    },
    {
     "name": "stdout",
     "output_type": "stream",
     "text": [
      "[CV] ........................ C=10000.0, score=0.898454, total=  22.8s\n",
      "[CV] C=1000000000.0 ..................................................\n",
      "[CV] ....................... C=100000.0, score=0.902577, total=  22.3s\n",
      "[CV] C=1000000000.0 ..................................................\n",
      "[CV] ........................ C=10000.0, score=0.895876, total=  22.6s\n",
      "[CV] ....................... C=100000.0, score=0.898454, total=  22.2s\n",
      "[CV] C=1000000000.0 ..................................................\n",
      "[CV] ........................ C=10000.0, score=0.894845, total=  23.3s\n",
      "[CV] C=1000000000.0 ..................................................\n",
      "[CV] C=10000000000.0 .................................................\n",
      "[CV] ...................... C=1000000.0, score=0.902577, total=  22.2s\n",
      "[CV] C=10000000000.0 .................................................\n",
      "[CV] ....................... C=100000.0, score=0.905670, total=  23.4s\n",
      "[CV] ...................... C=1000000.0, score=0.898454, total=  22.0s\n",
      "[CV] C=10000000000.0 .................................................\n"
     ]
    },
    {
     "name": "stderr",
     "output_type": "stream",
     "text": [
      "[Parallel(n_jobs=-1)]: Done  39 out of  65 | elapsed:   50.1s remaining:   33.4s\n"
     ]
    },
    {
     "name": "stdout",
     "output_type": "stream",
     "text": [
      "[CV] C=10000000000.0 .................................................\n",
      "[CV] ....................... C=100000.0, score=0.895876, total=  23.5s\n",
      "[CV] C=10000000000.0 .................................................\n",
      "[CV] ...................... C=1000000.0, score=0.895876, total=  22.3s\n",
      "[CV] ....................... C=100000.0, score=0.894845, total=  24.5s\n",
      "[CV] ...................... C=1000000.0, score=0.905670, total=  23.7s\n",
      "[CV] ..................... C=10000000.0, score=0.905670, total=  22.5s\n",
      "[CV] ..................... C=10000000.0, score=0.902577, total=  23.7s\n",
      "[CV] ...................... C=1000000.0, score=0.894845, total=  24.4s\n"
     ]
    },
    {
     "name": "stderr",
     "output_type": "stream",
     "text": [
      "[Parallel(n_jobs=-1)]: Done  46 out of  65 | elapsed:   52.8s remaining:   21.8s\n"
     ]
    },
    {
     "name": "stdout",
     "output_type": "stream",
     "text": [
      "[CV] ..................... C=10000000.0, score=0.898454, total=  24.3s\n",
      "[CV] ..................... C=10000000.0, score=0.895876, total=  21.9s\n",
      "[CV] ..................... C=10000000.0, score=0.893814, total=  22.7s\n",
      "[CV] .................... C=100000000.0, score=0.899485, total=  21.4s\n",
      "[CV] .................... C=100000000.0, score=0.902062, total=  22.0s\n",
      "[CV] .................... C=100000000.0, score=0.908763, total=  20.7s\n"
     ]
    },
    {
     "name": "stderr",
     "output_type": "stream",
     "text": [
      "[Parallel(n_jobs=-1)]: Done  53 out of  65 | elapsed:   56.4s remaining:   12.8s\n"
     ]
    },
    {
     "name": "stdout",
     "output_type": "stream",
     "text": [
      "[CV] .................... C=100000000.0, score=0.893814, total=  17.8s\n",
      "[CV] .................... C=100000000.0, score=0.895876, total=  16.3s\n",
      "[CV] ................... C=1000000000.0, score=0.902062, total=  16.1s\n",
      "[CV] ................... C=1000000000.0, score=0.908763, total=  16.6s\n",
      "[CV] ................... C=1000000000.0, score=0.895876, total=  16.0s\n",
      "[CV] ................... C=1000000000.0, score=0.899485, total=  17.6s\n",
      "[CV] .................. C=10000000000.0, score=0.893814, total=  15.3s\n"
     ]
    },
    {
     "name": "stderr",
     "output_type": "stream",
     "text": [
      "[Parallel(n_jobs=-1)]: Done  60 out of  65 | elapsed:  1.1min remaining:    5.5s\n"
     ]
    },
    {
     "name": "stdout",
     "output_type": "stream",
     "text": [
      "[CV] ................... C=1000000000.0, score=0.893814, total=  17.2s\n",
      "[CV] .................. C=10000000000.0, score=0.899485, total=  16.3s\n",
      "[CV] .................. C=10000000000.0, score=0.902062, total=  17.0s\n",
      "[CV] .................. C=10000000000.0, score=0.895876, total=  15.5s\n",
      "[CV] .................. C=10000000000.0, score=0.908763, total=  16.6s\n"
     ]
    },
    {
     "name": "stderr",
     "output_type": "stream",
     "text": [
      "[Parallel(n_jobs=-1)]: Done  65 out of  65 | elapsed:  1.1min finished\n"
     ]
    },
    {
     "data": {
      "text/plain": [
       "GridSearchCV(cv=StratifiedShuffleSplit(n_splits=5, random_state=1, test_size=0.2,\n",
       "            train_size=None),\n",
       "       error_score='raise',\n",
       "       estimator=LinearSVC(C=1.0, class_weight=None, dual=True, fit_intercept=True,\n",
       "     intercept_scaling=1, loss='squared_hinge', max_iter=1000,\n",
       "     multi_class='ovr', penalty='l2', random_state=None, tol=0.0001,\n",
       "     verbose=0),\n",
       "       fit_params={}, iid=True, n_jobs=-1,\n",
       "       param_grid={'C': array([  1.00000e-02,   1.00000e-01,   1.00000e+00,   1.00000e+01,\n",
       "         1.00000e+02,   1.00000e+03,   1.00000e+04,   1.00000e+05,\n",
       "         1.00000e+06,   1.00000e+07,   1.00000e+08,   1.00000e+09,\n",
       "         1.00000e+10])},\n",
       "       pre_dispatch='2*n_jobs', refit=True, return_train_score=True,\n",
       "       scoring=None, verbose=10)"
      ]
     },
     "execution_count": 9,
     "metadata": {},
     "output_type": "execute_result"
    }
   ],
   "source": [
    "# Training top_model\n",
    "C_range = np.logspace(-2, 10, 13)\n",
    "param_grid = dict(C=C_range)\n",
    "cv = StratifiedShuffleSplit(n_splits=5, test_size=0.2, random_state=1)\n",
    "\n",
    "top_model = GridSearchCV(svm.LinearSVC(), param_grid=param_grid, cv=cv, verbose=10, n_jobs=-1)\n",
    "top_model.fit(resnet50features,y)  # Training "
   ]
  },
  {
   "cell_type": "code",
   "execution_count": 10,
   "metadata": {},
   "outputs": [
    {
     "name": "stdout",
     "output_type": "stream",
     "text": [
      "Best parameters: {'C': 0.01} - score: 0.9174\n"
     ]
    }
   ],
   "source": [
    "print(\"Best parameters: %s - score: %0.4f\" % (top_model.best_params_, top_model.best_score_))"
   ]
  },
  {
   "cell_type": "code",
   "execution_count": 11,
   "metadata": {},
   "outputs": [
    {
     "data": {
      "text/plain": [
       "{'mean_fit_time': array([  9.80603123,  22.32270522,  22.70177131,  22.7173378 ,\n",
       "         23.004075  ,  21.65361423,  22.43825336,  23.13161736,\n",
       "         22.87945433,  22.99009156,  19.59774799,  16.70832319,  16.10484347]),\n",
       " 'mean_score_time': array([ 0.10353985,  0.08010664,  0.08264842,  0.07800255,  0.07495999,\n",
       "         0.06290617,  0.05837116,  0.04494538,  0.05245342,  0.0255084 ,\n",
       "         0.05002508,  0.01869907,  0.04633288]),\n",
       " 'mean_test_score': array([ 0.91742268,  0.90340206,  0.89979381,  0.9       ,  0.89969072,\n",
       "         0.89948454,  0.89958763,  0.89948454,  0.89948454,  0.89927835,\n",
       "         0.9       ,  0.9       ,  0.9       ]),\n",
       " 'mean_train_score': array([ 0.99373711,  0.99994845,  0.99992268,  1.        ,  0.99997423,\n",
       "         0.99997423,  0.99997423,  0.99997423,  0.99997423,  0.99997423,\n",
       "         0.99994845,  0.99994845,  0.99994845]),\n",
       " 'param_C': masked_array(data = [0.01 0.10000000000000001 1.0 10.0 100.0 1000.0 10000.0 100000.0 1000000.0\n",
       "  10000000.0 100000000.0 1000000000.0 10000000000.0],\n",
       "              mask = [False False False False False False False False False False False False\n",
       "  False],\n",
       "        fill_value = ?),\n",
       " 'params': ({'C': 0.01},\n",
       "  {'C': 0.10000000000000001},\n",
       "  {'C': 1.0},\n",
       "  {'C': 10.0},\n",
       "  {'C': 100.0},\n",
       "  {'C': 1000.0},\n",
       "  {'C': 10000.0},\n",
       "  {'C': 100000.0},\n",
       "  {'C': 1000000.0},\n",
       "  {'C': 10000000.0},\n",
       "  {'C': 100000000.0},\n",
       "  {'C': 1000000000.0},\n",
       "  {'C': 10000000000.0}),\n",
       " 'rank_test_score': array([ 1,  2,  7,  3,  8, 10,  9, 10, 10, 13,  3,  3,  3], dtype=int32),\n",
       " 'split0_test_score': array([ 0.9185567 ,  0.90412371,  0.90206186,  0.90206186,  0.90257732,\n",
       "         0.90206186,  0.90257732,  0.90257732,  0.90257732,  0.90257732,\n",
       "         0.90206186,  0.90206186,  0.90206186]),\n",
       " 'split0_train_score': array([ 0.99329897,  1.        ,  0.99987113,  1.        ,  1.        ,\n",
       "         1.        ,  1.        ,  1.        ,  1.        ,  1.        ,\n",
       "         1.        ,  1.        ,  1.        ]),\n",
       " 'split1_test_score': array([ 0.91958763,  0.90360825,  0.89948454,  0.9       ,  0.90051546,\n",
       "         0.89845361,  0.89845361,  0.89845361,  0.89845361,  0.89845361,\n",
       "         0.89948454,  0.89948454,  0.89948454]),\n",
       " 'split1_train_score': array([ 0.99420103,  1.        ,  0.99974227,  1.        ,  1.        ,\n",
       "         1.        ,  1.        ,  1.        ,  1.        ,  1.        ,\n",
       "         0.99974227,  0.99974227,  0.99974227]),\n",
       " 'split2_test_score': array([ 0.92319588,  0.9128866 ,  0.90876289,  0.90927835,  0.90721649,\n",
       "         0.90618557,  0.90618557,  0.9056701 ,  0.9056701 ,  0.9056701 ,\n",
       "         0.90876289,  0.90876289,  0.90876289]),\n",
       " 'split2_train_score': array([ 0.99329897,  0.99974227,  1.        ,  1.        ,  0.99987113,\n",
       "         0.99987113,  0.99987113,  0.99987113,  0.99987113,  0.99987113,\n",
       "         1.        ,  1.        ,  1.        ]),\n",
       " 'split3_test_score': array([ 0.91340206,  0.89484536,  0.89226804,  0.89226804,  0.89381443,\n",
       "         0.89484536,  0.89484536,  0.89484536,  0.89484536,  0.89381443,\n",
       "         0.89381443,  0.89381443,  0.89381443]),\n",
       " 'split3_train_score': array([ 0.99304124,  1.        ,  1.        ,  1.        ,  1.        ,\n",
       "         1.        ,  1.        ,  1.        ,  1.        ,  1.        ,\n",
       "         1.        ,  1.        ,  1.        ]),\n",
       " 'split4_test_score': array([ 0.91237113,  0.90154639,  0.89639175,  0.89639175,  0.8943299 ,\n",
       "         0.89587629,  0.89587629,  0.89587629,  0.89587629,  0.89587629,\n",
       "         0.89587629,  0.89587629,  0.89587629]),\n",
       " 'split4_train_score': array([ 0.99484536,  1.        ,  1.        ,  1.        ,  1.        ,\n",
       "         1.        ,  1.        ,  1.        ,  1.        ,  1.        ,\n",
       "         1.        ,  1.        ,  1.        ]),\n",
       " 'std_fit_time': array([ 1.45216483,  1.11206533,  0.13386273,  0.82334534,  1.12861408,\n",
       "         0.50245301,  0.58894   ,  0.84325855,  0.96509011,  0.86407633,\n",
       "         2.21331375,  0.62643433,  0.65507918]),\n",
       " 'std_score_time': array([ 0.0434082 ,  0.01757192,  0.02626368,  0.01698159,  0.03476471,\n",
       "         0.04289971,  0.03056618,  0.02268532,  0.02767399,  0.00456427,\n",
       "         0.01994689,  0.00267064,  0.02617637]),\n",
       " 'std_test_score': array([ 0.00402458,  0.00578239,  0.00554789,  0.00571212,  0.00507778,\n",
       "         0.00417494,  0.00424312,  0.00408487,  0.00408487,  0.00433235,\n",
       "         0.00522631,  0.00522631,  0.00522631]),\n",
       " 'std_train_score': array([  6.79943606e-04,   1.03092784e-04,   1.03092784e-04,\n",
       "          0.00000000e+00,   5.15463918e-05,   5.15463918e-05,\n",
       "          5.15463918e-05,   5.15463918e-05,   5.15463918e-05,\n",
       "          5.15463918e-05,   1.03092784e-04,   1.03092784e-04,\n",
       "          1.03092784e-04])}"
      ]
     },
     "execution_count": 11,
     "metadata": {},
     "output_type": "execute_result"
    }
   ],
   "source": [
    "top_model.cv_results_"
   ]
  },
  {
   "cell_type": "code",
   "execution_count": 12,
   "metadata": {
    "collapsed": true
   },
   "outputs": [],
   "source": [
    "cv = StratifiedShuffleSplit(n_splits=5, test_size=0.2, random_state=1)\n",
    "top_model = svm.SVC(top_model.best_params_['C'])\n",
    "train_sizes = np.linspace(.1, 1.0, 10)\n",
    "train_sizes, train_scores, test_scores = learning_curve(top_model, resnet50features, y, cv=cv, n_jobs=-1, train_sizes=train_sizes)"
   ]
  },
  {
   "cell_type": "code",
   "execution_count": 13,
   "metadata": {},
   "outputs": [
    {
     "data": {
      "image/png": "[encoded data removed]",
      "text/plain": [
       "<matplotlib.figure.Figure at 0x7f80ddc131d0>"
      ]
     },
     "metadata": {},
     "output_type": "display_data"
    }
   ],
   "source": [
    "figure = plt.gcf()\n",
    "figure.set_size_inches(24, 9)\n",
    "skplot.learning_curve(train_scores, test_scores, train_sizes)\n",
    "plt.show()"
   ]
  }
 ],
 "metadata": {
  "kernelspec": {
   "display_name": "Python 2",
   "language": "python",
   "name": "python2"
  },
  "language_info": {
   "codemirror_mode": {
    "name": "ipython",
    "version": 2
   },
   "file_extension": ".py",
   "mimetype": "text/x-python",
   "name": "python",
   "nbconvert_exporter": "python",
   "pygments_lexer": "ipython2",
   "version": "2.7.12"
  }
 },
 "nbformat": 4,
 "nbformat_minor": 2
}
