{
 "cells": [
  {
   "cell_type": "code",
   "execution_count": 1,
   "metadata": {},
   "outputs": [
    {
     "name": "stderr",
     "output_type": "stream",
     "text": [
      "Using TensorFlow backend.\n"
     ]
    }
   ],
   "source": [
    "import os\n",
    "import os.path\n",
    "import shutil\n",
    "import glob\n",
    "import time\n",
    "from sklearn.model_selection import StratifiedKFold                                                                                                                       \n",
    "\n",
    "import matplotlib.pyplot as plt\n",
    "import matplotlib.cm as colormap\n",
    "plt.rcParams['image.cmap'] = 'Pastel1'\n",
    "\n",
    "import numpy as np\n",
    "np.random.seed(1)\n",
    "\n",
    "from keras.preprocessing.image import img_to_array\n",
    "from keras.utils import np_utils\n",
    "from keras.preprocessing import image\n",
    "from keras.applications.resnet50 import ResNet50\n",
    "from keras.applications.imagenet_utils import preprocess_input"
   ]
  },
  {
   "cell_type": "code",
   "execution_count": 4,
   "metadata": {
    "collapsed": true
   },
   "outputs": [],
   "source": [
    "imagedir = \"Datasets/CG_Resized\""
   ]
  },
  {
   "cell_type": "code",
   "execution_count": 13,
   "metadata": {},
   "outputs": [
    {
     "name": "stdout",
     "output_type": "stream",
     "text": [
      "Label: 0\tFamily:              CG\tNumber of images: 8394\n",
      "Label: 1\tFamily:              PG\tNumber of images: 8002\n",
      "Processing images ...\n",
      "Images processed: 16396\n"
     ]
    }
   ],
   "source": [
    "cur_dir = os.getcwd()\n",
    "os.chdir(imagedir)  # the parent folder with sub-folders\n",
    "\n",
    "# Get number of samples per family\n",
    "list_fams = sorted(os.listdir(os.getcwd()), key=str.lower)  # vector of strings with family names\n",
    "no_imgs = []  # No. of samples per family\n",
    "for i in range(len(list_fams)):\n",
    "    os.chdir(list_fams[i])\n",
    "    len1 = len(glob.glob('*.jpg'))  # assuming the images are stored as 'jpg'\n",
    "    no_imgs.append(len1)\n",
    "    os.chdir('..')\n",
    "num_samples = np.sum(no_imgs)  # total number of all samples\n",
    "\n",
    "# Compute the labels\n",
    "y = np.zeros(num_samples)\n",
    "pos = 0\n",
    "label = 0\n",
    "for i in no_imgs:\n",
    "    print (\"Label:%2d\\tFamily: %15s\\tNumber of images: %d\" % (label, list_fams[label], i))\n",
    "    for j in range(i):\n",
    "        y[pos] = label\n",
    "        pos += 1\n",
    "    label += 1\n",
    "num_classes = label\n",
    "\n",
    "# Compute the features\n",
    "width, height,channels = (224,224,3)\n",
    "X = np.zeros((num_samples, width, height, channels))\n",
    "cnt = 0\n",
    "list_paths = [] # List of image paths\n",
    "print(\"Processing images ...\")\n",
    "for i in range(len(list_fams)):\n",
    "    for img_file in glob.glob(list_fams[i]+'/*.jpg'):\n",
    "        #print(\"[%d] Processing image: %s\" % (cnt, img_file))\n",
    "        list_paths.append(os.path.join(os.getcwd(),img_file))\n",
    "        img = image.load_img(img_file, target_size=(224, 224))\n",
    "        x = image.img_to_array(img)\n",
    "        x = np.expand_dims(x, axis=0)\n",
    "        x = preprocess_input(x)\n",
    "        X[cnt] = x\n",
    "        cnt += 1\n",
    "print(\"Images processed: %d\" %(cnt))\n",
    "\n",
    "os.chdir(cur_dir)"
   ]
  },
  {
   "cell_type": "code",
   "execution_count": 14,
   "metadata": {},
   "outputs": [],
   "source": [
    "# Create stratified k-fold subsets                                                                                                                                        \n",
    "kfold = 5  # no. of folds                                                                 \n",
    "skf = StratifiedKFold(kfold, shuffle=True, random_state=1)\n",
    "skfind = [None] * kfold  # skfind[i][0] -> train indices, skfind[i][1] -> test indices\n",
    "cnt = 0                                              \n",
    "for index in skf.split(X, y):         \n",
    "    skfind[cnt] = index                                                 \n",
    "    cnt += 1 "
   ]
  },
  {
   "cell_type": "code",
   "execution_count": 15,
   "metadata": {},
   "outputs": [
    {
     "name": "stdout",
     "output_type": "stream",
     "text": [
      "[   21    25    39 ..., 16382 16391 16395]\n",
      "[    4     5     6 ..., 16381 16384 16385]\n",
      "[    1     3     9 ..., 16353 16360 16375]\n",
      "[    0     8    10 ..., 16373 16377 16393]\n",
      "[    2    14    15 ..., 16390 16392 16394]\n"
     ]
    }
   ],
   "source": [
    "for i in range(kfold):\n",
    "    print(skfind[i][1])"
   ]
  },
  {
   "cell_type": "code",
   "execution_count": 16,
   "metadata": {},
   "outputs": [
    {
     "name": "stdout",
     "output_type": "stream",
     "text": [
      "['/home/edmar/GIT/CG/Datasets/CG_Resized/CG/862.jpg'\n",
      " '/home/edmar/GIT/CG/Datasets/CG_Resized/CG/1240434411.jpg'\n",
      " '/home/edmar/GIT/CG/Datasets/CG_Resized/CG/3576.jpg' ...,\n",
      " '/home/edmar/GIT/CG/Datasets/CG_Resized/PG/21_56_33_prev.jpg'\n",
      " '/home/edmar/GIT/CG/Datasets/CG_Resized/PG/02_14_3_prev.jpg'\n",
      " '/home/edmar/GIT/CG/Datasets/CG_Resized/PG/19_02_86_prev.jpg']\n",
      "['/home/edmar/GIT/CG/Datasets/CG_Resized/CG/04.jpg'\n",
      " '/home/edmar/GIT/CG/Datasets/CG_Resized/CG/web_1265551721.jpg'\n",
      " '/home/edmar/GIT/CG/Datasets/CG_Resized/CG/964.13305.jpg' ...,\n",
      " '/home/edmar/GIT/CG/Datasets/CG_Resized/PG/1218_24_52_prev.jpg'\n",
      " '/home/edmar/GIT/CG/Datasets/CG_Resized/PG/12_21_5_prev.jpg'\n",
      " '/home/edmar/GIT/CG/Datasets/CG_Resized/PG/23_64_61_prev.jpg']\n",
      "['/home/edmar/GIT/CG/Datasets/CG_Resized/CG/3584.jpg'\n",
      " '/home/edmar/GIT/CG/Datasets/CG_Resized/CG/1258127203.jpg'\n",
      " '/home/edmar/GIT/CG/Datasets/CG_Resized/CG/web_1281339516.jpg' ...,\n",
      " '/home/edmar/GIT/CG/Datasets/CG_Resized/PG/810_06_5896_prev.jpg'\n",
      " '/home/edmar/GIT/CG/Datasets/CG_Resized/PG/810_18_6339_prev.jpg'\n",
      " '/home/edmar/GIT/CG/Datasets/CG_Resized/PG/02_15_4_prev.jpg']\n",
      "['/home/edmar/GIT/CG/Datasets/CG_Resized/CG/29.jpg'\n",
      " '/home/edmar/GIT/CG/Datasets/CG_Resized/CG/web_1254674796.jpg'\n",
      " '/home/edmar/GIT/CG/Datasets/CG_Resized/CG/web_1259748239.jpg' ...,\n",
      " '/home/edmar/GIT/CG/Datasets/CG_Resized/PG/15_65_4_prev.jpg'\n",
      " '/home/edmar/GIT/CG/Datasets/CG_Resized/PG/12_73_90_prev.jpg'\n",
      " '/home/edmar/GIT/CG/Datasets/CG_Resized/PG/15_76_29_prev.jpg']\n",
      "['/home/edmar/GIT/CG/Datasets/CG_Resized/CG/web_1242991954.jpg'\n",
      " '/home/edmar/GIT/CG/Datasets/CG_Resized/CG/1237007401.jpg'\n",
      " '/home/edmar/GIT/CG/Datasets/CG_Resized/CG/web_1258464483.jpg' ...,\n",
      " '/home/edmar/GIT/CG/Datasets/CG_Resized/PG/15_14_25_prev.jpg'\n",
      " '/home/edmar/GIT/CG/Datasets/CG_Resized/PG/12_77_15_prev.jpg'\n",
      " '/home/edmar/GIT/CG/Datasets/CG_Resized/PG/41_19_29_prev.jpg']\n"
     ]
    }
   ],
   "source": [
    "l = np.array(list_paths)\n",
    "for i in range(kfold):\n",
    "    print(l[skfind[i][1]])"
   ]
  },
  {
   "cell_type": "code",
   "execution_count": 17,
   "metadata": {
    "collapsed": true
   },
   "outputs": [],
   "source": [
    "foldsdir = 'Folds' \n",
    "if not os.path.exists(foldsdir):\n",
    "    os.makedirs(foldsdir)\n",
    "\n",
    "l = np.array(list_paths)\n",
    "for i in range(kfold):\n",
    "    fdir = os.path.join(foldsdir,'Fold'+str(i))\n",
    "    if not os.path.exists(fdir):\n",
    "        os.makedirs(fdir)\n",
    "    for fname in l[skfind[i][1]]:\n",
    "        shutil.copy(fname,fdir)"
   ]
  }
 ],
 "metadata": {
  "kernelspec": {
   "display_name": "Python 2",
   "language": "python",
   "name": "python2"
  },
  "language_info": {
   "codemirror_mode": {
    "name": "ipython",
    "version": 2
   },
   "file_extension": ".py",
   "mimetype": "text/x-python",
   "name": "python",
   "nbconvert_exporter": "python",
   "pygments_lexer": "ipython2",
   "version": "2.7.12"
  }
 },
 "nbformat": 4,
 "nbformat_minor": 2
}
